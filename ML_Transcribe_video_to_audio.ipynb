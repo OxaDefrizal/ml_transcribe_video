{
  "nbformat": 4,
  "nbformat_minor": 0,
  "metadata": {
    "colab": {
      "provenance": []
    },
    "kernelspec": {
      "name": "python3",
      "display_name": "Python 3"
    },
    "language_info": {
      "name": "python"
    }
  },
  "cells": [
    {
      "cell_type": "markdown",
      "source": [],
      "metadata": {
        "id": "bITIzD3peZlR"
      }
    },
    {
      "cell_type": "markdown",
      "source": [
        "# Download Libary"
      ],
      "metadata": {
        "id": "CjNidhT1aALX"
      }
    },
    {
      "cell_type": "code",
      "source": [
        "!pip install pytube\n",
        "!pip install git+https://github.com/openai/whisper.git\n",
        "!pip install langdetect"
      ],
      "metadata": {
        "colab": {
          "base_uri": "https://localhost:8080/"
        },
        "id": "hcBvQf629ypg",
        "outputId": "bf78ee7b-c612-4352-effd-09de5a874b6a"
      },
      "execution_count": 1,
      "outputs": [
        {
          "output_type": "stream",
          "name": "stdout",
          "text": [
            "Requirement already satisfied: pytube in /usr/local/lib/python3.10/dist-packages (15.0.0)\n",
            "Collecting git+https://github.com/openai/whisper.git\n",
            "  Cloning https://github.com/openai/whisper.git to /tmp/pip-req-build-_3hg9rov\n",
            "  Running command git clone --filter=blob:none --quiet https://github.com/openai/whisper.git /tmp/pip-req-build-_3hg9rov\n",
            "  Resolved https://github.com/openai/whisper.git to commit e58f28804528831904c3b6f2c0e473f346223433\n",
            "  Installing build dependencies ... \u001b[?25l\u001b[?25hdone\n",
            "  Getting requirements to build wheel ... \u001b[?25l\u001b[?25hdone\n",
            "  Preparing metadata (pyproject.toml) ... \u001b[?25l\u001b[?25hdone\n",
            "Requirement already satisfied: triton<3,>=2.0.0 in /usr/local/lib/python3.10/dist-packages (from openai-whisper==20231117) (2.1.0)\n",
            "Requirement already satisfied: numba in /usr/local/lib/python3.10/dist-packages (from openai-whisper==20231117) (0.58.1)\n",
            "Requirement already satisfied: numpy in /usr/local/lib/python3.10/dist-packages (from openai-whisper==20231117) (1.23.5)\n",
            "Requirement already satisfied: torch in /usr/local/lib/python3.10/dist-packages (from openai-whisper==20231117) (2.1.0+cu118)\n",
            "Requirement already satisfied: tqdm in /usr/local/lib/python3.10/dist-packages (from openai-whisper==20231117) (4.66.1)\n",
            "Requirement already satisfied: more-itertools in /usr/local/lib/python3.10/dist-packages (from openai-whisper==20231117) (10.1.0)\n",
            "Requirement already satisfied: tiktoken in /usr/local/lib/python3.10/dist-packages (from openai-whisper==20231117) (0.5.1)\n",
            "Requirement already satisfied: filelock in /usr/local/lib/python3.10/dist-packages (from triton<3,>=2.0.0->openai-whisper==20231117) (3.13.1)\n",
            "Requirement already satisfied: llvmlite<0.42,>=0.41.0dev0 in /usr/local/lib/python3.10/dist-packages (from numba->openai-whisper==20231117) (0.41.1)\n",
            "Requirement already satisfied: regex>=2022.1.18 in /usr/local/lib/python3.10/dist-packages (from tiktoken->openai-whisper==20231117) (2023.6.3)\n",
            "Requirement already satisfied: requests>=2.26.0 in /usr/local/lib/python3.10/dist-packages (from tiktoken->openai-whisper==20231117) (2.31.0)\n",
            "Requirement already satisfied: typing-extensions in /usr/local/lib/python3.10/dist-packages (from torch->openai-whisper==20231117) (4.5.0)\n",
            "Requirement already satisfied: sympy in /usr/local/lib/python3.10/dist-packages (from torch->openai-whisper==20231117) (1.12)\n",
            "Requirement already satisfied: networkx in /usr/local/lib/python3.10/dist-packages (from torch->openai-whisper==20231117) (3.2.1)\n",
            "Requirement already satisfied: jinja2 in /usr/local/lib/python3.10/dist-packages (from torch->openai-whisper==20231117) (3.1.2)\n",
            "Requirement already satisfied: fsspec in /usr/local/lib/python3.10/dist-packages (from torch->openai-whisper==20231117) (2023.6.0)\n",
            "Requirement already satisfied: charset-normalizer<4,>=2 in /usr/local/lib/python3.10/dist-packages (from requests>=2.26.0->tiktoken->openai-whisper==20231117) (3.3.2)\n",
            "Requirement already satisfied: idna<4,>=2.5 in /usr/local/lib/python3.10/dist-packages (from requests>=2.26.0->tiktoken->openai-whisper==20231117) (3.4)\n",
            "Requirement already satisfied: urllib3<3,>=1.21.1 in /usr/local/lib/python3.10/dist-packages (from requests>=2.26.0->tiktoken->openai-whisper==20231117) (2.0.7)\n",
            "Requirement already satisfied: certifi>=2017.4.17 in /usr/local/lib/python3.10/dist-packages (from requests>=2.26.0->tiktoken->openai-whisper==20231117) (2023.7.22)\n",
            "Requirement already satisfied: MarkupSafe>=2.0 in /usr/local/lib/python3.10/dist-packages (from jinja2->torch->openai-whisper==20231117) (2.1.3)\n",
            "Requirement already satisfied: mpmath>=0.19 in /usr/local/lib/python3.10/dist-packages (from sympy->torch->openai-whisper==20231117) (1.3.0)\n",
            "Requirement already satisfied: langdetect in /usr/local/lib/python3.10/dist-packages (1.0.9)\n",
            "Requirement already satisfied: six in /usr/local/lib/python3.10/dist-packages (from langdetect) (1.16.0)\n"
          ]
        }
      ]
    },
    {
      "cell_type": "markdown",
      "source": [
        "# Import Libary"
      ],
      "metadata": {
        "id": "w4izV9kPaMtv"
      }
    },
    {
      "cell_type": "code",
      "source": [
        "import os\n",
        "import whisper\n",
        "from langdetect import detect\n",
        "from pytube import YouTube"
      ],
      "metadata": {
        "id": "3egQsRstaKN9"
      },
      "execution_count": 3,
      "outputs": []
    },
    {
      "cell_type": "markdown",
      "source": [
        "# Input the link Youtube"
      ],
      "metadata": {
        "id": "vTuy-Qo7cBHe"
      }
    },
    {
      "cell_type": "code",
      "source": [
        "# Ask user for the YouTube video URL\n",
        "print(\"Masukan link URL Youtube Video. Jika sudah tekan Enter\")\n",
        "link = input(\"Link : \")\n",
        "\n",
        "# Create a YouTube object from the URL\n",
        "yt = YouTube(link)"
      ],
      "metadata": {
        "colab": {
          "base_uri": "https://localhost:8080/"
        },
        "id": "u2lfEPYr9OX0",
        "outputId": "1365881d-04c6-4a6f-bddb-f309c21f7ffa"
      },
      "execution_count": 5,
      "outputs": [
        {
          "name": "stdout",
          "output_type": "stream",
          "text": [
            "Masukan link URL Youtube Video. Jika sudah tekan Enter\n",
            "Link : https://www.youtube.com/watch?v=WgQzmcKx9rU\n"
          ]
        }
      ]
    },
    {
      "cell_type": "markdown",
      "source": [
        "# Extract the video to audio"
      ],
      "metadata": {
        "id": "f7wMhY5icFSM"
      }
    },
    {
      "cell_type": "code",
      "source": [
        "# Get the audio stream\n",
        "audio_stream = yt.streams.filter(only_audio=True).first()\n",
        "\n",
        "# Download the audio stream\n",
        "output_path = \"YoutubeAudios\"\n",
        "filename = \"audio.mp3\"\n",
        "audio_stream.download(output_path=output_path, filename=filename)\n",
        "\n",
        "print(f\"Audio diunduh ke {output_path}/{filename}\")"
      ],
      "metadata": {
        "colab": {
          "base_uri": "https://localhost:8080/"
        },
        "id": "zvB23Teranj8",
        "outputId": "4804d95d-8c2c-4cd9-c50a-ef6a8186bb8e"
      },
      "execution_count": 6,
      "outputs": [
        {
          "output_type": "stream",
          "name": "stdout",
          "text": [
            "Audio diunduh ke YoutubeAudios/audio.mp3\n"
          ]
        }
      ]
    },
    {
      "cell_type": "markdown",
      "source": [
        "# Load the base model and transcribe the audio"
      ],
      "metadata": {
        "id": "-U_wZ6nmcLgL"
      }
    },
    {
      "cell_type": "code",
      "source": [
        "model = whisper.load_model(\"base\")\n",
        "result = model.transcribe(\"YoutubeAudios/audio.mp3\")\n",
        "transcribed_text = result[\"text\"]"
      ],
      "metadata": {
        "colab": {
          "base_uri": "https://localhost:8080/"
        },
        "id": "FSH9OvMLb7vv",
        "outputId": "945cfc5e-5f8e-4c99-f9c8-6f206c7ed185"
      },
      "execution_count": 11,
      "outputs": [
        {
          "output_type": "stream",
          "name": "stderr",
          "text": [
            "/usr/local/lib/python3.10/dist-packages/whisper/transcribe.py:115: UserWarning: FP16 is not supported on CPU; using FP32 instead\n",
            "  warnings.warn(\"FP16 is not supported on CPU; using FP32 instead\")\n"
          ]
        }
      ]
    },
    {
      "cell_type": "markdown",
      "source": [
        "# Detect the language"
      ],
      "metadata": {
        "id": "i0J30pEUcS4b"
      }
    },
    {
      "cell_type": "code",
      "source": [
        "language = detect(transcribed_text)\n",
        "print(f\"Bahasa yang terdeteksi: {language}\")"
      ],
      "metadata": {
        "colab": {
          "base_uri": "https://localhost:8080/"
        },
        "id": "xWbDRGt7b9Qn",
        "outputId": "430d219b-6bba-424e-891d-f4ec3e3945ab"
      },
      "execution_count": 8,
      "outputs": [
        {
          "output_type": "stream",
          "name": "stdout",
          "text": [
            "Bahasa yang terdeteksi: en\n"
          ]
        }
      ]
    },
    {
      "cell_type": "markdown",
      "source": [
        "# Print the Result"
      ],
      "metadata": {
        "id": "s4WoWmX_cZX8"
      }
    },
    {
      "cell_type": "code",
      "source": [
        "print(transcribed_text)"
      ],
      "metadata": {
        "colab": {
          "base_uri": "https://localhost:8080/"
        },
        "id": "NWtg43-zesCd",
        "outputId": "f0c8ed0b-e04e-4f3c-c6c5-6401015ab440"
      },
      "execution_count": 12,
      "outputs": [
        {
          "output_type": "stream",
          "name": "stdout",
          "text": [
            " Music Tell me something, tell me something I haven't heard before Cause I'm restless and I'm dying to no more Show me something, show me something I haven't seen before Cause I'm tired of the same boat's the same show It's like a friend to lead this hell behind us We got everything we need to make a trip I can't keep it in and I'm right where I wanna be I'm hopelessly need to bend it in Cause I'm too long to face the end but I'm holding on to start again and I I guess I'll go on time The world is trying to open me down but I'm running at the speed of light and light I guess I'll go on time I guess I'll go on time There's something, there's something, something we'll fight for Cause my heart beat as beside and for too long Tell me one thing, tell me one thing Are you happy or is that a fight I know? Let you know when it does I'm a friend to lead this hell behind us We got everything we need to make a change I can't keep it in and I'm right where I wanna be I'm hopelessly need to bend it in Cause I'm too long to face the end but I'm holding on to start again and I I guess I'll go on time The world is trying to open me down but I'm running at the speed of light and light I guess I'll go on time Cause my heart beat as beside and for too long I still got a little time in me Won't let it go away There's power in my toes I still got a little time in me I'm never coming home Cause I'm too long to face the end but I'm holding on to start again and I guess I'll go on time The world is trying to open me down but I'm running at the speed of light and light I guess I'll go on time I guess I'll go on time I guess I'll go on time I guess I'll go on time\n"
          ]
        }
      ]
    },
    {
      "cell_type": "code",
      "source": [
        "# Function to open a file\n",
        "def startfile(fn):\n",
        "    os.system('open %s' % fn)\n",
        "\n",
        "# Function to create and open a txt file\n",
        "def create_and_open_txt(text, filename):\n",
        "    # Create and write the text to a txt file\n",
        "    with open(filename, \"w\") as file:\n",
        "        file.write(text)\n",
        "    startfile(filename)\n",
        "\n",
        "# Create a txt file with the text\n",
        "create_and_open_txt(transcribed_text, f\"Hasil Transcribe_{language}.txt\")"
      ],
      "metadata": {
        "id": "cPYE_vn4b-Nc"
      },
      "execution_count": 13,
      "outputs": []
    }
  ]
}